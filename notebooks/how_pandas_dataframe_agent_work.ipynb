{
 "cells": [
  {
   "cell_type": "code",
   "execution_count": 2,
   "metadata": {},
   "outputs": [
    {
     "data": {
      "text/plain": [
       "True"
      ]
     },
     "execution_count": 2,
     "metadata": {},
     "output_type": "execute_result"
    }
   ],
   "source": [
    "from langchain_experimental.agents.agent_toolkits.pandas.base import create_pandas_dataframe_agent\n",
    "from langchain_openai import ChatOpenAI\n",
    "import matplotlib.pyplot as plt\n",
    "import pandas as pd\n",
    "from dotenv import load_dotenv\n",
    "\n",
    "# load environment varibles\n",
    "load_dotenv()"
   ]
  },
  {
   "cell_type": "code",
   "execution_count": 5,
   "metadata": {},
   "outputs": [
    {
     "data": {
      "text/plain": [
       "ChatOpenAI(client=<openai.resources.chat.completions.Completions object at 0x17d74d2d0>, async_client=<openai.resources.chat.completions.AsyncCompletions object at 0x17d73c580>, temperature=0.0, openai_api_key=SecretStr('**********'), openai_proxy='', max_tokens=1000)"
      ]
     },
     "execution_count": 5,
     "metadata": {},
     "output_type": "execute_result"
    }
   ],
   "source": [
    "import sys\n",
    "sys.path.append(\"your/path/to/dagpt\")\n",
    "from src.models.llms import load_llm\n",
    "\n",
    "MODEL_NAME = \"gpt-3.5-turbo\"\n",
    "llm = load_llm(model_name=MODEL_NAME)\n",
    "llm"
   ]
  },
  {
   "cell_type": "code",
   "execution_count": 6,
   "metadata": {},
   "outputs": [
    {
     "data": {
      "text/plain": [
       "AIMessage(content='Hello! I am an AI digital assistant here to help answer any questions you may have. How can I assist you today?', response_metadata={'token_usage': {'completion_tokens': 25, 'prompt_tokens': 13, 'total_tokens': 38}, 'model_name': 'gpt-3.5-turbo-0125', 'system_fingerprint': None, 'finish_reason': 'stop', 'logprobs': None}, id='run-0f47bca4-b9a6-4ead-b7ad-70e8ec382185-0', usage_metadata={'input_tokens': 13, 'output_tokens': 25, 'total_tokens': 38})"
      ]
     },
     "execution_count": 6,
     "metadata": {},
     "output_type": "execute_result"
    }
   ],
   "source": [
    "llm.invoke(\"Hello. Who are you?\")"
   ]
  },
  {
   "cell_type": "code",
   "execution_count": 7,
   "metadata": {},
   "outputs": [
    {
     "data": {
      "text/plain": [
       "AgentExecutor(verbose=True, agent=RunnableMultiActionAgent(runnable=RunnableAssign(mapper={\n",
       "  agent_scratchpad: RunnableLambda(lambda x: message_formatter(x['intermediate_steps']))\n",
       "})\n",
       "| ChatPromptTemplate(input_variables=['agent_scratchpad', 'input'], input_types={'agent_scratchpad': typing.List[typing.Union[langchain_core.messages.ai.AIMessage, langchain_core.messages.human.HumanMessage, langchain_core.messages.chat.ChatMessage, langchain_core.messages.system.SystemMessage, langchain_core.messages.function.FunctionMessage, langchain_core.messages.tool.ToolMessage]]}, messages=[SystemMessage(content='\\nYou are working with a pandas dataframe in Python. The name of the dataframe is `df`.\\nThis is the result of `print(df.head())`:\\n|    | Store Name   | Date      | Product   |   Unit Price |   Sales |   Revenue |   Stock Quantity |    Profit | Store Address   | Postal Code   |\\n|---:|:-------------|:----------|:----------|-------------:|--------:|----------:|-----------------:|----------:|:----------------|:--------------|\\n|  0 | 7-Eleven     | 2023/1/8  | Bakery    |       623.95 |      33 |  20590.3  |               67 |  8236.14  | Osaka, Japan    | 530-0001      |\\n|  1 | 7-Eleven     | 2023/1/23 | Bakery    |       714.97 |      40 |  28598.8  |               46 | 11439.5   | Osaka, Japan    | 530-0001      |\\n|  2 | 7-Eleven     | 2023/2/2  | Bakery    |       174.14 |      41 |   7139.74 |               79 |  2855.9   | Osaka, Japan    | 530-0001      |\\n|  3 | 7-Eleven     | 2023/3/8  | Bakery    |       816.88 |      44 |  35942.7  |               37 | 14377.1   | Osaka, Japan    | 530-0001      |\\n|  4 | 7-Eleven     | 2023/1/29 | Beef Bowl |       247.26 |       9 |   2225.34 |               23 |   890.136 | Osaka, Japan    | 530-0001      |'), HumanMessagePromptTemplate(prompt=PromptTemplate(input_variables=['input'], template='{input}')), MessagesPlaceholder(variable_name='agent_scratchpad')])\n",
       "| RunnableBinding(bound=ChatOpenAI(client=<openai.resources.chat.completions.Completions object at 0x17d74d2d0>, async_client=<openai.resources.chat.completions.AsyncCompletions object at 0x17d73c580>, temperature=0.0, openai_api_key=SecretStr('**********'), openai_proxy='', max_tokens=1000), kwargs={'tools': [{'type': 'function', 'function': {'name': 'python_repl_ast', 'description': 'A Python shell. Use this to execute python commands. Input should be a valid python command. When using this tool, sometimes output is abbreviated - make sure it does not look abbreviated before using it in your answer.', 'parameters': {'type': 'object', 'properties': {'query': {'description': 'code snippet to run', 'type': 'string'}}, 'required': ['query']}}}]})\n",
       "| ToolsAgentOutputParser(), input_keys_arg=['input'], return_keys_arg=['output'], stream_runnable=True), tools=[PythonAstREPLTool(locals={'df':     Store Name       Date    Product  Unit Price  Sales   Revenue  \\\n",
       "0     7-Eleven   2023/1/8     Bakery      623.95     33  20590.35   \n",
       "1     7-Eleven  2023/1/23     Bakery      714.97     40  28598.80   \n",
       "2     7-Eleven   2023/2/2     Bakery      174.14     41   7139.74   \n",
       "3     7-Eleven   2023/3/8     Bakery      816.88     44  35942.72   \n",
       "4     7-Eleven  2023/1/29  Beef Bowl      247.26      9   2225.34   \n",
       "..         ...        ...        ...         ...    ...       ...   \n",
       "95  FamilyMart   2023/2/4     Snacks      689.06      8   5512.48   \n",
       "96  FamilyMart  2023/3/15     Snacks      542.44     32  17358.08   \n",
       "97  FamilyMart  2023/3/19     Snacks      817.80     10   8178.00   \n",
       "98  FamilyMart  2023/3/20     Snacks      379.33     35  13276.55   \n",
       "99  FamilyMart  2023/1/25  Spaghetti      346.26      3   1038.78   \n",
       "\n",
       "    Stock Quantity     Profit Store Address Postal Code  \n",
       "0               67   8236.140  Osaka, Japan    530-0001  \n",
       "1               46  11439.520  Osaka, Japan    530-0001  \n",
       "2               79   2855.896  Osaka, Japan    530-0001  \n",
       "3               37  14377.088  Osaka, Japan    530-0001  \n",
       "4               23    890.136  Osaka, Japan    530-0001  \n",
       "..             ...        ...           ...         ...  \n",
       "95              98   2204.992  Tokyo, Japan    100-0001  \n",
       "96              65   6943.232  Tokyo, Japan    100-0001  \n",
       "97              70   3271.200  Tokyo, Japan    100-0001  \n",
       "98              29   5310.620  Tokyo, Japan    100-0001  \n",
       "99              47    415.512  Tokyo, Japan    100-0001  \n",
       "\n",
       "[100 rows x 10 columns]})], return_intermediate_steps=True)"
      ]
     },
     "execution_count": 7,
     "metadata": {},
     "output_type": "execute_result"
    }
   ],
   "source": [
    "df = pd.read_csv(\"../data/raw/sample_data.csv\")\n",
    "\n",
    "da_agent = create_pandas_dataframe_agent(\n",
    "    llm=llm,\n",
    "    df=df,\n",
    "    agent_type=\"tool-calling\",\n",
    "    allow_dangerous_code=True,\n",
    "    verbose=True,\n",
    "    return_intermediate_steps=True,\n",
    ")\n",
    "da_agent"
   ]
  },
  {
   "cell_type": "code",
   "execution_count": 17,
   "metadata": {},
   "outputs": [
    {
     "name": "stdout",
     "output_type": "stream",
     "text": [
      "\n",
      "\n",
      "\u001b[1m> Entering new AgentExecutor chain...\u001b[0m\n",
      "\u001b[32;1m\u001b[1;3m\n",
      "Invoking: `python_repl_ast` with `{'query': 'df.describe()'}`\n",
      "\n",
      "\n",
      "\u001b[0m\u001b[36;1m\u001b[1;3m       Unit Price       Sales       Revenue  Stock Quantity        Profit\n",
      "count  100.000000  100.000000    100.000000      100.000000    100.000000\n",
      "mean   537.351300   24.880000  13475.005300       51.300000   5390.002120\n",
      "std    272.028629   13.773258  11008.943033       26.595169   4403.577213\n",
      "min    108.790000    2.000000    777.760000       10.000000    311.104000\n",
      "25%    296.965000   12.000000   4801.042500       29.000000   1920.417000\n",
      "50%    532.200000   25.500000   9605.830000       49.000000   3842.332000\n",
      "75%    776.627500   36.250000  21305.137500       75.000000   8522.055000\n",
      "max    997.410000   49.000000  43472.000000       98.000000  17388.800000\u001b[0m\u001b[32;1m\u001b[1;3mThe data in the dataframe can be described as follows:\n",
      "\n",
      "- **Unit Price**: \n",
      "  - Mean: 537.35\n",
      "  - Standard Deviation: 272.03\n",
      "  - Minimum: 108.79\n",
      "  - Maximum: 997.41\n",
      "\n",
      "- **Sales**: \n",
      "  - Mean: 24.88\n",
      "  - Standard Deviation: 13.77\n",
      "  - Minimum: 2\n",
      "  - Maximum: 49\n",
      "\n",
      "- **Revenue**: \n",
      "  - Mean: 13475.01\n",
      "  - Standard Deviation: 11008.94\n",
      "  - Minimum: 777.76\n",
      "  - Maximum: 43472.00\n",
      "\n",
      "- **Stock Quantity**: \n",
      "  - Mean: 51.30\n",
      "  - Standard Deviation: 26.60\n",
      "  - Minimum: 10\n",
      "  - Maximum: 98\n",
      "\n",
      "- **Profit**: \n",
      "  - Mean: 5390.00\n",
      "  - Standard Deviation: 4403.58\n",
      "  - Minimum: 311.10\n",
      "  - Maximum: 17388.80\n",
      "\n",
      "These statistics provide an overview of the numerical data in the dataframe.\u001b[0m\n",
      "\n",
      "\u001b[1m> Finished chain.\u001b[0m\n"
     ]
    }
   ],
   "source": [
    "query = \"Describe this data\"\n",
    "response = da_agent(query)"
   ]
  },
  {
   "cell_type": "code",
   "execution_count": 18,
   "metadata": {},
   "outputs": [
    {
     "name": "stdout",
     "output_type": "stream",
     "text": [
      "df.describe()\n"
     ]
    }
   ],
   "source": [
    "print(response[\"intermediate_steps\"][-1][0].tool_input['query'])"
   ]
  },
  {
   "cell_type": "code",
   "execution_count": 9,
   "metadata": {},
   "outputs": [
    {
     "name": "stdout",
     "output_type": "stream",
     "text": [
      "\n",
      "\n",
      "\u001b[1m> Entering new AgentExecutor chain...\u001b[0m\n",
      "\u001b[32;1m\u001b[1;3m\n",
      "Invoking: `python_repl_ast` with `{'query': \"import matplotlib.pyplot as plt\\nplt.scatter(df['Sales'], df['Revenue'])\\nplt.xlabel('Sales')\\nplt.ylabel('Revenue')\\nplt.title('Scatter Plot of Revenue vs Sales')\\nplt.show()\"}`\n",
      "\n",
      "\n",
      "\u001b[0m"
     ]
    },
    {
     "data": {
      "image/png": "[encoded data removed]",
      "text/plain": [
       "<Figure size 640x480 with 1 Axes>"
      ]
     },
     "metadata": {},
     "output_type": "display_data"
    },
    {
     "name": "stdout",
     "output_type": "stream",
     "text": [
      "\u001b[36;1m\u001b[1;3m\u001b[0m\u001b[32;1m\u001b[1;3mHere is the scatter plot of Revenue vs Sales. The plot shows the relationship between these two variables.\u001b[0m\n",
      "\n",
      "\u001b[1m> Finished chain.\u001b[0m\n"
     ]
    }
   ],
   "source": [
    "query = \"plot scatter plot of Revenue and Sales\"\n",
    "response = da_agent(query)"
   ]
  },
  {
   "cell_type": "code",
   "execution_count": 16,
   "metadata": {},
   "outputs": [
    {
     "name": "stdout",
     "output_type": "stream",
     "text": [
      "import matplotlib.pyplot as plt\n",
      "plt.scatter(df['Sales'], df['Revenue'])\n",
      "plt.xlabel('Sales')\n",
      "plt.ylabel('Revenue')\n",
      "plt.title('Scatter Plot of Revenue vs Sales')\n",
      "plt.show()\n"
     ]
    }
   ],
   "source": [
    "print(response[\"intermediate_steps\"][-1][0].tool_input['query'])"
   ]
  },
  {
   "cell_type": "code",
   "execution_count": null,
   "metadata": {},
   "outputs": [],
   "source": []
  }
 ],
 "metadata": {
  "kernelspec": {
   "display_name": ".venv",
   "language": "python",
   "name": "python3"
  },
  "language_info": {
   "codemirror_mode": {
    "name": "ipython",
    "version": 3
   },
   "file_extension": ".py",
   "mimetype": "text/x-python",
   "name": "python",
   "nbconvert_exporter": "python",
   "pygments_lexer": "ipython3",
   "version": "3.10.6"
  }
 },
 "nbformat": 4,
 "nbformat_minor": 2
}
